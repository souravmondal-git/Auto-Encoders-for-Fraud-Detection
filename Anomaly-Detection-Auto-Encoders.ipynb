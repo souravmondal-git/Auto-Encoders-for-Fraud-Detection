{
 "cells": [
  {
   "cell_type": "code",
   "execution_count": 1,
   "metadata": {},
   "outputs": [
    {
     "name": "stderr",
     "output_type": "stream",
     "text": [
      "/Library/Frameworks/Python.framework/Versions/3.7/lib/python3.7/site-packages/tensorflow/python/framework/dtypes.py:526: FutureWarning: Passing (type, 1) or '1type' as a synonym of type is deprecated; in a future version of numpy, it will be understood as (type, (1,)) / '(1,)type'.\n",
      "  _np_qint8 = np.dtype([(\"qint8\", np.int8, 1)])\n",
      "/Library/Frameworks/Python.framework/Versions/3.7/lib/python3.7/site-packages/tensorflow/python/framework/dtypes.py:527: FutureWarning: Passing (type, 1) or '1type' as a synonym of type is deprecated; in a future version of numpy, it will be understood as (type, (1,)) / '(1,)type'.\n",
      "  _np_quint8 = np.dtype([(\"quint8\", np.uint8, 1)])\n",
      "/Library/Frameworks/Python.framework/Versions/3.7/lib/python3.7/site-packages/tensorflow/python/framework/dtypes.py:528: FutureWarning: Passing (type, 1) or '1type' as a synonym of type is deprecated; in a future version of numpy, it will be understood as (type, (1,)) / '(1,)type'.\n",
      "  _np_qint16 = np.dtype([(\"qint16\", np.int16, 1)])\n",
      "/Library/Frameworks/Python.framework/Versions/3.7/lib/python3.7/site-packages/tensorflow/python/framework/dtypes.py:529: FutureWarning: Passing (type, 1) or '1type' as a synonym of type is deprecated; in a future version of numpy, it will be understood as (type, (1,)) / '(1,)type'.\n",
      "  _np_quint16 = np.dtype([(\"quint16\", np.uint16, 1)])\n",
      "/Library/Frameworks/Python.framework/Versions/3.7/lib/python3.7/site-packages/tensorflow/python/framework/dtypes.py:530: FutureWarning: Passing (type, 1) or '1type' as a synonym of type is deprecated; in a future version of numpy, it will be understood as (type, (1,)) / '(1,)type'.\n",
      "  _np_qint32 = np.dtype([(\"qint32\", np.int32, 1)])\n",
      "/Library/Frameworks/Python.framework/Versions/3.7/lib/python3.7/site-packages/tensorflow/python/framework/dtypes.py:535: FutureWarning: Passing (type, 1) or '1type' as a synonym of type is deprecated; in a future version of numpy, it will be understood as (type, (1,)) / '(1,)type'.\n",
      "  np_resource = np.dtype([(\"resource\", np.ubyte, 1)])\n"
     ]
    }
   ],
   "source": [
    "import pandas as pd\n",
    "import tensorflow as tf\n",
    "import matplotlib.pyplot as plt"
   ]
  },
  {
   "cell_type": "code",
   "execution_count": 2,
   "metadata": {},
   "outputs": [
    {
     "name": "stdout",
     "output_type": "stream",
     "text": [
      "1.13.2\n"
     ]
    }
   ],
   "source": [
    "print(tf.__version__)"
   ]
  },
  {
   "cell_type": "code",
   "execution_count": null,
   "metadata": {},
   "outputs": [],
   "source": []
  },
  {
   "cell_type": "code",
   "execution_count": 3,
   "metadata": {},
   "outputs": [],
   "source": [
    "df = pd.read_csv(\"creditcardfraud_normalised.csv\")"
   ]
  },
  {
   "cell_type": "code",
   "execution_count": 4,
   "metadata": {},
   "outputs": [
    {
     "data": {
      "text/html": [
       "<div>\n",
       "<style scoped>\n",
       "    .dataframe tbody tr th:only-of-type {\n",
       "        vertical-align: middle;\n",
       "    }\n",
       "\n",
       "    .dataframe tbody tr th {\n",
       "        vertical-align: top;\n",
       "    }\n",
       "\n",
       "    .dataframe thead th {\n",
       "        text-align: right;\n",
       "    }\n",
       "</style>\n",
       "<table border=\"1\" class=\"dataframe\">\n",
       "  <thead>\n",
       "    <tr style=\"text-align: right;\">\n",
       "      <th></th>\n",
       "      <th>V1</th>\n",
       "      <th>V2</th>\n",
       "      <th>V3</th>\n",
       "      <th>V4</th>\n",
       "      <th>V5</th>\n",
       "      <th>V6</th>\n",
       "      <th>V7</th>\n",
       "      <th>V8</th>\n",
       "      <th>V9</th>\n",
       "      <th>V10</th>\n",
       "      <th>...</th>\n",
       "      <th>V21</th>\n",
       "      <th>V22</th>\n",
       "      <th>V23</th>\n",
       "      <th>V24</th>\n",
       "      <th>V25</th>\n",
       "      <th>V26</th>\n",
       "      <th>V27</th>\n",
       "      <th>V28</th>\n",
       "      <th>Amount</th>\n",
       "      <th>class</th>\n",
       "    </tr>\n",
       "  </thead>\n",
       "  <tbody>\n",
       "    <tr>\n",
       "      <th>0</th>\n",
       "      <td>0.935192</td>\n",
       "      <td>0.766490</td>\n",
       "      <td>0.881365</td>\n",
       "      <td>0.313023</td>\n",
       "      <td>0.763439</td>\n",
       "      <td>0.267669</td>\n",
       "      <td>0.266815</td>\n",
       "      <td>0.786444</td>\n",
       "      <td>0.475312</td>\n",
       "      <td>0.510600</td>\n",
       "      <td>...</td>\n",
       "      <td>0.561184</td>\n",
       "      <td>0.522992</td>\n",
       "      <td>0.663793</td>\n",
       "      <td>0.391253</td>\n",
       "      <td>0.585122</td>\n",
       "      <td>0.394557</td>\n",
       "      <td>0.418976</td>\n",
       "      <td>0.312697</td>\n",
       "      <td>0.005824</td>\n",
       "      <td>0</td>\n",
       "    </tr>\n",
       "    <tr>\n",
       "      <th>1</th>\n",
       "      <td>0.978542</td>\n",
       "      <td>0.770067</td>\n",
       "      <td>0.840298</td>\n",
       "      <td>0.271796</td>\n",
       "      <td>0.766120</td>\n",
       "      <td>0.262192</td>\n",
       "      <td>0.264875</td>\n",
       "      <td>0.786298</td>\n",
       "      <td>0.453981</td>\n",
       "      <td>0.505267</td>\n",
       "      <td>...</td>\n",
       "      <td>0.557840</td>\n",
       "      <td>0.480237</td>\n",
       "      <td>0.666938</td>\n",
       "      <td>0.336440</td>\n",
       "      <td>0.587290</td>\n",
       "      <td>0.446013</td>\n",
       "      <td>0.416345</td>\n",
       "      <td>0.313423</td>\n",
       "      <td>0.000105</td>\n",
       "      <td>0</td>\n",
       "    </tr>\n",
       "    <tr>\n",
       "      <th>2</th>\n",
       "      <td>0.935217</td>\n",
       "      <td>0.753118</td>\n",
       "      <td>0.868141</td>\n",
       "      <td>0.268766</td>\n",
       "      <td>0.762329</td>\n",
       "      <td>0.281122</td>\n",
       "      <td>0.270177</td>\n",
       "      <td>0.788042</td>\n",
       "      <td>0.410603</td>\n",
       "      <td>0.513018</td>\n",
       "      <td>...</td>\n",
       "      <td>0.565477</td>\n",
       "      <td>0.546030</td>\n",
       "      <td>0.678939</td>\n",
       "      <td>0.289354</td>\n",
       "      <td>0.559515</td>\n",
       "      <td>0.402727</td>\n",
       "      <td>0.415489</td>\n",
       "      <td>0.311911</td>\n",
       "      <td>0.014739</td>\n",
       "      <td>0</td>\n",
       "    </tr>\n",
       "    <tr>\n",
       "      <th>3</th>\n",
       "      <td>0.941878</td>\n",
       "      <td>0.765304</td>\n",
       "      <td>0.868484</td>\n",
       "      <td>0.213661</td>\n",
       "      <td>0.765647</td>\n",
       "      <td>0.275559</td>\n",
       "      <td>0.266803</td>\n",
       "      <td>0.789434</td>\n",
       "      <td>0.414999</td>\n",
       "      <td>0.507585</td>\n",
       "      <td>...</td>\n",
       "      <td>0.559734</td>\n",
       "      <td>0.510277</td>\n",
       "      <td>0.662607</td>\n",
       "      <td>0.223826</td>\n",
       "      <td>0.614245</td>\n",
       "      <td>0.389197</td>\n",
       "      <td>0.417669</td>\n",
       "      <td>0.314371</td>\n",
       "      <td>0.004807</td>\n",
       "      <td>0</td>\n",
       "    </tr>\n",
       "    <tr>\n",
       "      <th>4</th>\n",
       "      <td>0.938617</td>\n",
       "      <td>0.776520</td>\n",
       "      <td>0.864251</td>\n",
       "      <td>0.269796</td>\n",
       "      <td>0.762975</td>\n",
       "      <td>0.263984</td>\n",
       "      <td>0.268968</td>\n",
       "      <td>0.782484</td>\n",
       "      <td>0.490950</td>\n",
       "      <td>0.524303</td>\n",
       "      <td>...</td>\n",
       "      <td>0.561327</td>\n",
       "      <td>0.547271</td>\n",
       "      <td>0.663392</td>\n",
       "      <td>0.401270</td>\n",
       "      <td>0.566343</td>\n",
       "      <td>0.507497</td>\n",
       "      <td>0.420561</td>\n",
       "      <td>0.317490</td>\n",
       "      <td>0.002724</td>\n",
       "      <td>0</td>\n",
       "    </tr>\n",
       "    <tr>\n",
       "      <th>...</th>\n",
       "      <td>...</td>\n",
       "      <td>...</td>\n",
       "      <td>...</td>\n",
       "      <td>...</td>\n",
       "      <td>...</td>\n",
       "      <td>...</td>\n",
       "      <td>...</td>\n",
       "      <td>...</td>\n",
       "      <td>...</td>\n",
       "      <td>...</td>\n",
       "      <td>...</td>\n",
       "      <td>...</td>\n",
       "      <td>...</td>\n",
       "      <td>...</td>\n",
       "      <td>...</td>\n",
       "      <td>...</td>\n",
       "      <td>...</td>\n",
       "      <td>...</td>\n",
       "      <td>...</td>\n",
       "      <td>...</td>\n",
       "      <td>...</td>\n",
       "    </tr>\n",
       "    <tr>\n",
       "      <th>284802</th>\n",
       "      <td>0.756448</td>\n",
       "      <td>0.873531</td>\n",
       "      <td>0.666991</td>\n",
       "      <td>0.160317</td>\n",
       "      <td>0.729603</td>\n",
       "      <td>0.236810</td>\n",
       "      <td>0.235393</td>\n",
       "      <td>0.863749</td>\n",
       "      <td>0.528729</td>\n",
       "      <td>0.598850</td>\n",
       "      <td>...</td>\n",
       "      <td>0.564920</td>\n",
       "      <td>0.515249</td>\n",
       "      <td>0.680500</td>\n",
       "      <td>0.313600</td>\n",
       "      <td>0.658558</td>\n",
       "      <td>0.466291</td>\n",
       "      <td>0.433929</td>\n",
       "      <td>0.329840</td>\n",
       "      <td>0.000030</td>\n",
       "      <td>0</td>\n",
       "    </tr>\n",
       "    <tr>\n",
       "      <th>284803</th>\n",
       "      <td>0.945845</td>\n",
       "      <td>0.766677</td>\n",
       "      <td>0.872678</td>\n",
       "      <td>0.219189</td>\n",
       "      <td>0.771561</td>\n",
       "      <td>0.273661</td>\n",
       "      <td>0.265504</td>\n",
       "      <td>0.788548</td>\n",
       "      <td>0.482925</td>\n",
       "      <td>0.488530</td>\n",
       "      <td>...</td>\n",
       "      <td>0.564933</td>\n",
       "      <td>0.553154</td>\n",
       "      <td>0.665619</td>\n",
       "      <td>0.245298</td>\n",
       "      <td>0.543855</td>\n",
       "      <td>0.360884</td>\n",
       "      <td>0.417775</td>\n",
       "      <td>0.312038</td>\n",
       "      <td>0.000965</td>\n",
       "      <td>0</td>\n",
       "    </tr>\n",
       "    <tr>\n",
       "      <th>284804</th>\n",
       "      <td>0.990905</td>\n",
       "      <td>0.764080</td>\n",
       "      <td>0.781102</td>\n",
       "      <td>0.227202</td>\n",
       "      <td>0.783425</td>\n",
       "      <td>0.293496</td>\n",
       "      <td>0.263547</td>\n",
       "      <td>0.792985</td>\n",
       "      <td>0.477677</td>\n",
       "      <td>0.498692</td>\n",
       "      <td>...</td>\n",
       "      <td>0.565220</td>\n",
       "      <td>0.537005</td>\n",
       "      <td>0.664877</td>\n",
       "      <td>0.468492</td>\n",
       "      <td>0.592823</td>\n",
       "      <td>0.411176</td>\n",
       "      <td>0.416593</td>\n",
       "      <td>0.312585</td>\n",
       "      <td>0.002642</td>\n",
       "      <td>0</td>\n",
       "    </tr>\n",
       "    <tr>\n",
       "      <th>284805</th>\n",
       "      <td>0.954209</td>\n",
       "      <td>0.772856</td>\n",
       "      <td>0.849587</td>\n",
       "      <td>0.282508</td>\n",
       "      <td>0.763172</td>\n",
       "      <td>0.269291</td>\n",
       "      <td>0.261175</td>\n",
       "      <td>0.792671</td>\n",
       "      <td>0.476287</td>\n",
       "      <td>0.500464</td>\n",
       "      <td>...</td>\n",
       "      <td>0.565755</td>\n",
       "      <td>0.547353</td>\n",
       "      <td>0.663008</td>\n",
       "      <td>0.398836</td>\n",
       "      <td>0.545958</td>\n",
       "      <td>0.514746</td>\n",
       "      <td>0.418520</td>\n",
       "      <td>0.315245</td>\n",
       "      <td>0.000389</td>\n",
       "      <td>0</td>\n",
       "    </tr>\n",
       "    <tr>\n",
       "      <th>284806</th>\n",
       "      <td>0.949232</td>\n",
       "      <td>0.765256</td>\n",
       "      <td>0.849601</td>\n",
       "      <td>0.229488</td>\n",
       "      <td>0.765632</td>\n",
       "      <td>0.256488</td>\n",
       "      <td>0.274963</td>\n",
       "      <td>0.780938</td>\n",
       "      <td>0.479528</td>\n",
       "      <td>0.489782</td>\n",
       "      <td>...</td>\n",
       "      <td>0.565688</td>\n",
       "      <td>0.540031</td>\n",
       "      <td>0.671029</td>\n",
       "      <td>0.383420</td>\n",
       "      <td>0.551319</td>\n",
       "      <td>0.291786</td>\n",
       "      <td>0.416466</td>\n",
       "      <td>0.313401</td>\n",
       "      <td>0.008446</td>\n",
       "      <td>0</td>\n",
       "    </tr>\n",
       "  </tbody>\n",
       "</table>\n",
       "<p>284807 rows × 30 columns</p>\n",
       "</div>"
      ],
      "text/plain": [
       "              V1        V2        V3        V4        V5        V6        V7  \\\n",
       "0       0.935192  0.766490  0.881365  0.313023  0.763439  0.267669  0.266815   \n",
       "1       0.978542  0.770067  0.840298  0.271796  0.766120  0.262192  0.264875   \n",
       "2       0.935217  0.753118  0.868141  0.268766  0.762329  0.281122  0.270177   \n",
       "3       0.941878  0.765304  0.868484  0.213661  0.765647  0.275559  0.266803   \n",
       "4       0.938617  0.776520  0.864251  0.269796  0.762975  0.263984  0.268968   \n",
       "...          ...       ...       ...       ...       ...       ...       ...   \n",
       "284802  0.756448  0.873531  0.666991  0.160317  0.729603  0.236810  0.235393   \n",
       "284803  0.945845  0.766677  0.872678  0.219189  0.771561  0.273661  0.265504   \n",
       "284804  0.990905  0.764080  0.781102  0.227202  0.783425  0.293496  0.263547   \n",
       "284805  0.954209  0.772856  0.849587  0.282508  0.763172  0.269291  0.261175   \n",
       "284806  0.949232  0.765256  0.849601  0.229488  0.765632  0.256488  0.274963   \n",
       "\n",
       "              V8        V9       V10  ...       V21       V22       V23  \\\n",
       "0       0.786444  0.475312  0.510600  ...  0.561184  0.522992  0.663793   \n",
       "1       0.786298  0.453981  0.505267  ...  0.557840  0.480237  0.666938   \n",
       "2       0.788042  0.410603  0.513018  ...  0.565477  0.546030  0.678939   \n",
       "3       0.789434  0.414999  0.507585  ...  0.559734  0.510277  0.662607   \n",
       "4       0.782484  0.490950  0.524303  ...  0.561327  0.547271  0.663392   \n",
       "...          ...       ...       ...  ...       ...       ...       ...   \n",
       "284802  0.863749  0.528729  0.598850  ...  0.564920  0.515249  0.680500   \n",
       "284803  0.788548  0.482925  0.488530  ...  0.564933  0.553154  0.665619   \n",
       "284804  0.792985  0.477677  0.498692  ...  0.565220  0.537005  0.664877   \n",
       "284805  0.792671  0.476287  0.500464  ...  0.565755  0.547353  0.663008   \n",
       "284806  0.780938  0.479528  0.489782  ...  0.565688  0.540031  0.671029   \n",
       "\n",
       "             V24       V25       V26       V27       V28    Amount  class  \n",
       "0       0.391253  0.585122  0.394557  0.418976  0.312697  0.005824      0  \n",
       "1       0.336440  0.587290  0.446013  0.416345  0.313423  0.000105      0  \n",
       "2       0.289354  0.559515  0.402727  0.415489  0.311911  0.014739      0  \n",
       "3       0.223826  0.614245  0.389197  0.417669  0.314371  0.004807      0  \n",
       "4       0.401270  0.566343  0.507497  0.420561  0.317490  0.002724      0  \n",
       "...          ...       ...       ...       ...       ...       ...    ...  \n",
       "284802  0.313600  0.658558  0.466291  0.433929  0.329840  0.000030      0  \n",
       "284803  0.245298  0.543855  0.360884  0.417775  0.312038  0.000965      0  \n",
       "284804  0.468492  0.592823  0.411176  0.416593  0.312585  0.002642      0  \n",
       "284805  0.398836  0.545958  0.514746  0.418520  0.315245  0.000389      0  \n",
       "284806  0.383420  0.551319  0.291786  0.416466  0.313401  0.008446      0  \n",
       "\n",
       "[284807 rows x 30 columns]"
      ]
     },
     "execution_count": 4,
     "metadata": {},
     "output_type": "execute_result"
    }
   ],
   "source": [
    "df"
   ]
  },
  {
   "cell_type": "code",
   "execution_count": 5,
   "metadata": {},
   "outputs": [],
   "source": [
    "cols = df.columns"
   ]
  },
  {
   "cell_type": "code",
   "execution_count": 6,
   "metadata": {},
   "outputs": [
    {
     "data": {
      "text/plain": [
       "Index(['V1', 'V2', 'V3', 'V4', 'V5', 'V6', 'V7', 'V8', 'V9', 'V10', 'V11',\n",
       "       'V12', 'V13', 'V14', 'V15', 'V16', 'V17', 'V18', 'V19', 'V20', 'V21',\n",
       "       'V22', 'V23', 'V24', 'V25', 'V26', 'V27', 'V28', 'Amount', 'class'],\n",
       "      dtype='object')"
      ]
     },
     "execution_count": 6,
     "metadata": {},
     "output_type": "execute_result"
    }
   ],
   "source": [
    "cols"
   ]
  },
  {
   "cell_type": "code",
   "execution_count": 7,
   "metadata": {},
   "outputs": [],
   "source": [
    "y=df['class']\n",
    "X=df.drop(columns=['class'], axis=1)"
   ]
  },
  {
   "cell_type": "code",
   "execution_count": 8,
   "metadata": {},
   "outputs": [],
   "source": [
    "from sklearn.model_selection import train_test_split"
   ]
  },
  {
   "cell_type": "code",
   "execution_count": 9,
   "metadata": {},
   "outputs": [],
   "source": [
    "X_train, X_test, y_train, y_test = train_test_split(X, y, test_size=0.3, random_state=101)"
   ]
  },
  {
   "cell_type": "code",
   "execution_count": 10,
   "metadata": {},
   "outputs": [],
   "source": [
    "X_train2, X_validate, y_train2, y_validate = train_test_split(X_train, y_train, test_size=0.3, random_state=101)"
   ]
  },
  {
   "cell_type": "code",
   "execution_count": 11,
   "metadata": {},
   "outputs": [
    {
     "data": {
      "text/plain": [
       "(284807, 29)"
      ]
     },
     "execution_count": 11,
     "metadata": {},
     "output_type": "execute_result"
    }
   ],
   "source": [
    "X.shape"
   ]
  },
  {
   "cell_type": "code",
   "execution_count": 12,
   "metadata": {},
   "outputs": [],
   "source": [
    "from tensorflow.keras.layers import Dense\n",
    "from tensorflow.keras.models import Sequential"
   ]
  },
  {
   "cell_type": "code",
   "execution_count": 13,
   "metadata": {},
   "outputs": [
    {
     "data": {
      "text/plain": [
       "(199364, 29)"
      ]
     },
     "execution_count": 13,
     "metadata": {},
     "output_type": "execute_result"
    }
   ],
   "source": [
    "X_train.shape"
   ]
  },
  {
   "cell_type": "code",
   "execution_count": 14,
   "metadata": {},
   "outputs": [
    {
     "name": "stdout",
     "output_type": "stream",
     "text": [
      "WARNING:tensorflow:From /Library/Frameworks/Python.framework/Versions/3.7/lib/python3.7/site-packages/tensorflow/python/ops/resource_variable_ops.py:435: colocate_with (from tensorflow.python.framework.ops) is deprecated and will be removed in a future version.\n",
      "Instructions for updating:\n",
      "Colocations handled automatically by placer.\n",
      "WARNING:tensorflow:From /Library/Frameworks/Python.framework/Versions/3.7/lib/python3.7/site-packages/tensorflow/python/keras/utils/losses_utils.py:170: to_float (from tensorflow.python.ops.math_ops) is deprecated and will be removed in a future version.\n",
      "Instructions for updating:\n",
      "Use tf.cast instead.\n",
      "_________________________________________________________________\n",
      "Layer (type)                 Output Shape              Param #   \n",
      "=================================================================\n",
      "dense (Dense)                (None, 29)                870       \n",
      "_________________________________________________________________\n",
      "dense_1 (Dense)              (None, 16)                480       \n",
      "_________________________________________________________________\n",
      "dense_2 (Dense)              (None, 8)                 136       \n",
      "_________________________________________________________________\n",
      "dense_3 (Dense)              (None, 4)                 36        \n",
      "_________________________________________________________________\n",
      "dense_4 (Dense)              (None, 2)                 10        \n",
      "_________________________________________________________________\n",
      "dense_5 (Dense)              (None, 4)                 12        \n",
      "_________________________________________________________________\n",
      "dense_6 (Dense)              (None, 8)                 40        \n",
      "_________________________________________________________________\n",
      "dense_7 (Dense)              (None, 16)                144       \n",
      "_________________________________________________________________\n",
      "dense_8 (Dense)              (None, 29)                493       \n",
      "=================================================================\n",
      "Total params: 2,221\n",
      "Trainable params: 2,221\n",
      "Non-trainable params: 0\n",
      "_________________________________________________________________\n"
     ]
    }
   ],
   "source": [
    "input_dim = X_train2.shape[1]\n",
    "BATCH_SIZE = 200\n",
    "EPOCHS = 100\n",
    "\n",
    "model = Sequential([\n",
    "    \n",
    "    Dense(input_dim, activation='elu', input_shape=(input_dim,)),\n",
    "    Dense(16, activation='elu'),\n",
    "    Dense(8, activation='elu'),\n",
    "    Dense(4, activation='elu'),\n",
    "    \n",
    "    Dense(2, activation='elu'),\n",
    "    \n",
    "    Dense(4, activation='elu'),\n",
    "    Dense(8, activation='elu'),\n",
    "    Dense(16, activation='elu'),\n",
    "    Dense(input_dim, activation='elu')\n",
    "])\n",
    "\n",
    "model.compile(optimizer='adam', loss='mse', metrics=['acc'])\n",
    "\n",
    "model.summary()"
   ]
  },
  {
   "cell_type": "code",
   "execution_count": 15,
   "metadata": {},
   "outputs": [
    {
     "name": "stdout",
     "output_type": "stream",
     "text": [
      "The tensorboard module is not an IPython extension.\n"
     ]
    },
    {
     "name": "stderr",
     "output_type": "stream",
     "text": [
      "UsageError: Line magic function `%tensorboard` not found.\n"
     ]
    }
   ],
   "source": [
    "%load_ext tensorboard\n",
    "%tensorboard --logdir logs"
   ]
  },
  {
   "cell_type": "code",
   "execution_count": 16,
   "metadata": {},
   "outputs": [],
   "source": [
    "from datetime import datetime\n",
    "\n",
    "# current date and time\n",
    "yyyymmddHHMM = datetime.now().strftime('%Y%m%d%H%M')\n",
    "\n",
    "# new folder for a new run\n",
    "log_subdir = f'{yyyymmddHHMM}_batch{BATCH_SIZE}_layers{len(model.layers)}'\n",
    "\n",
    "# define our early stopping\n",
    "early_stop = tf.keras.callbacks.EarlyStopping(\n",
    "    monitor='val_loss',\n",
    "    min_delta=0.0001,\n",
    "    patience=10,\n",
    "    verbose=1, \n",
    "    mode='min',\n",
    "    restore_best_weights=True\n",
    ")\n",
    "\n",
    "save_model = tf.keras.callbacks.ModelCheckpoint(\n",
    "    filepath='autoencoder_best_weights.hdf5',\n",
    "    save_best_only=True,\n",
    "    monitor='val_loss',\n",
    "    verbose=0,\n",
    "    mode='min'\n",
    ")\n",
    "\n",
    "tensorboard = tf.keras.callbacks.TensorBoard(\n",
    "    f'logs/{log_subdir}',\n",
    "    batch_size=BATCH_SIZE,\n",
    "    update_freq='batch'\n",
    ")\n",
    "\n",
    "# callbacks argument only takes a list\n",
    "cb = [early_stop, save_model, tensorboard]"
   ]
  },
  {
   "cell_type": "code",
   "execution_count": 17,
   "metadata": {},
   "outputs": [
    {
     "name": "stdout",
     "output_type": "stream",
     "text": [
      "Train on 139554 samples, validate on 59810 samples\n",
      "WARNING:tensorflow:From /Library/Frameworks/Python.framework/Versions/3.7/lib/python3.7/site-packages/tensorflow/python/ops/math_ops.py:3066: to_int32 (from tensorflow.python.ops.math_ops) is deprecated and will be removed in a future version.\n",
      "Instructions for updating:\n",
      "Use tf.cast instead.\n",
      "Epoch 1/100\n",
      "139554/139554 [==============================] - 4s 32us/sample - loss: 0.0137 - acc: 0.8770 - val_loss: 0.0017 - val_acc: 0.9916\n",
      "Epoch 2/100\n",
      "139554/139554 [==============================] - 3s 23us/sample - loss: 0.0017 - acc: 0.9921 - val_loss: 0.0017 - val_acc: 0.9916\n",
      "Epoch 3/100\n",
      "139554/139554 [==============================] - 3s 23us/sample - loss: 0.0017 - acc: 0.9921 - val_loss: 0.0016 - val_acc: 0.9916\n",
      "Epoch 4/100\n",
      "139554/139554 [==============================] - 3s 23us/sample - loss: 0.0016 - acc: 0.9921 - val_loss: 0.0015 - val_acc: 0.9916\n",
      "Epoch 5/100\n",
      "139554/139554 [==============================] - 3s 23us/sample - loss: 0.0015 - acc: 0.9921 - val_loss: 0.0015 - val_acc: 0.9916\n",
      "Epoch 6/100\n",
      "139554/139554 [==============================] - 3s 23us/sample - loss: 0.0015 - acc: 0.9921 - val_loss: 0.0015 - val_acc: 0.9916\n",
      "Epoch 7/100\n",
      "139554/139554 [==============================] - 3s 23us/sample - loss: 0.0014 - acc: 0.9921 - val_loss: 0.0014 - val_acc: 0.9916\n",
      "Epoch 8/100\n",
      "139554/139554 [==============================] - 3s 23us/sample - loss: 0.0014 - acc: 0.9921 - val_loss: 0.0013 - val_acc: 0.9916\n",
      "Epoch 9/100\n",
      "139554/139554 [==============================] - 3s 23us/sample - loss: 0.0013 - acc: 0.9921 - val_loss: 0.0013 - val_acc: 0.9916\n",
      "Epoch 10/100\n",
      "139554/139554 [==============================] - 3s 23us/sample - loss: 0.0013 - acc: 0.9921 - val_loss: 0.0013 - val_acc: 0.9916\n",
      "Epoch 11/100\n",
      "139554/139554 [==============================] - 3s 23us/sample - loss: 0.0013 - acc: 0.9921 - val_loss: 0.0013 - val_acc: 0.9916\n",
      "Epoch 12/100\n",
      "139554/139554 [==============================] - 3s 23us/sample - loss: 0.0013 - acc: 0.9921 - val_loss: 0.0013 - val_acc: 0.9916\n",
      "Epoch 13/100\n",
      "139554/139554 [==============================] - 3s 23us/sample - loss: 0.0013 - acc: 0.9921 - val_loss: 0.0013 - val_acc: 0.9916\n",
      "Epoch 14/100\n",
      "139554/139554 [==============================] - 4s 27us/sample - loss: 0.0013 - acc: 0.9921 - val_loss: 0.0013 - val_acc: 0.9916\n",
      "Epoch 15/100\n",
      "139554/139554 [==============================] - 3s 23us/sample - loss: 0.0013 - acc: 0.9921 - val_loss: 0.0013 - val_acc: 0.9916\n",
      "Epoch 16/100\n",
      "139554/139554 [==============================] - 3s 23us/sample - loss: 0.0013 - acc: 0.9921 - val_loss: 0.0013 - val_acc: 0.9916\n",
      "Epoch 17/100\n",
      "139554/139554 [==============================] - 3s 23us/sample - loss: 0.0013 - acc: 0.9921 - val_loss: 0.0013 - val_acc: 0.9916\n",
      "Epoch 18/100\n",
      "139554/139554 [==============================] - 3s 24us/sample - loss: 0.0013 - acc: 0.9921 - val_loss: 0.0013 - val_acc: 0.9916\n",
      "Epoch 19/100\n",
      "139200/139554 [============================>.] - ETA: 0s - loss: 0.0013 - acc: 0.9921Restoring model weights from the end of the best epoch.\n",
      "139554/139554 [==============================] - 3s 24us/sample - loss: 0.0013 - acc: 0.9921 - val_loss: 0.0013 - val_acc: 0.9916\n",
      "Epoch 00019: early stopping\n"
     ]
    }
   ],
   "source": [
    "history = model.fit(\n",
    "    X_train2, X_train2,\n",
    "    shuffle=True,\n",
    "    epochs=EPOCHS,\n",
    "    batch_size=BATCH_SIZE,\n",
    "    callbacks=cb,\n",
    "    validation_data=(X_validate, X_validate)\n",
    ");"
   ]
  },
  {
   "cell_type": "code",
   "execution_count": 18,
   "metadata": {},
   "outputs": [],
   "source": [
    "reconstructions = model.predict(X_test)"
   ]
  },
  {
   "cell_type": "code",
   "execution_count": 19,
   "metadata": {},
   "outputs": [],
   "source": [
    "import numpy as np"
   ]
  },
  {
   "cell_type": "code",
   "execution_count": 20,
   "metadata": {},
   "outputs": [],
   "source": [
    "mse = np.mean(np.power(X_test - reconstructions, 2), axis=1)"
   ]
  },
  {
   "cell_type": "code",
   "execution_count": 21,
   "metadata": {},
   "outputs": [],
   "source": [
    "X_test_df=pd.DataFrame(X_test, index=X_test.index, columns=X_test.columns)"
   ]
  },
  {
   "cell_type": "code",
   "execution_count": 22,
   "metadata": {},
   "outputs": [],
   "source": [
    "y_test_df=pd.DataFrame(y_test, index=X_test.index, columns=['class'])"
   ]
  },
  {
   "cell_type": "code",
   "execution_count": 23,
   "metadata": {},
   "outputs": [],
   "source": [
    "test_clean_col=list(y_test_df[y_test_df['class']==0].index)\n",
    "X_test_cleanDF=X_test_df.loc[test_clean_col,:]\n",
    "test_fraud_col=list(y_test_df[y_test_df['class']==1].index)\n",
    "X_test_fraudDF=X_test_df.loc[test_fraud_col,:]"
   ]
  },
  {
   "cell_type": "code",
   "execution_count": 24,
   "metadata": {},
   "outputs": [],
   "source": [
    "clean_reconstruction=model.predict(np.array(X_test_cleanDF))\n",
    "fraud_reconstruction=model.predict(np.array(X_test_fraudDF))"
   ]
  },
  {
   "cell_type": "code",
   "execution_count": 25,
   "metadata": {},
   "outputs": [],
   "source": [
    "mse_clean = np.mean(np.power(np.array(X_test_cleanDF) - clean_reconstruction, 2), axis=1)\n",
    "mse_fraud = np.mean(np.power(np.array(X_test_fraudDF) - fraud_reconstruction, 2), axis=1)"
   ]
  },
  {
   "cell_type": "code",
   "execution_count": 26,
   "metadata": {},
   "outputs": [
    {
     "data": {
      "image/png": "[encoded data removed]",
      "text/plain": [
       "<Figure size 432x432 with 1 Axes>"
      ]
     },
     "metadata": {
      "needs_background": "light"
     },
     "output_type": "display_data"
    }
   ],
   "source": [
    "fig, ax = plt.subplots(figsize=(6,6))\n",
    "\n",
    "ax.hist(mse_clean, bins=100, density=True, label=\"clean\", alpha=.6, color=\"green\")\n",
    "ax.hist(mse_fraud, bins=100, density=True, label=\"fraud\", alpha=.6, color=\"red\")\n",
    "\n",
    "plt.title(\"(Normalized) Distribution of the Reconstruction Loss\")\n",
    "plt.xlim([-0.01,0.1])\n",
    "plt.legend()\n",
    "plt.show()"
   ]
  },
  {
   "cell_type": "code",
   "execution_count": 27,
   "metadata": {},
   "outputs": [
    {
     "data": {
      "text/plain": [
       "577.8760162601626"
      ]
     },
     "execution_count": 27,
     "metadata": {},
     "output_type": "execute_result"
    }
   ],
   "source": [
    "df[df['class']==0].shape[0]/df[df['class']==1].shape[0]"
   ]
  },
  {
   "cell_type": "code",
   "execution_count": 28,
   "metadata": {},
   "outputs": [],
   "source": [
    "features = df.drop('class',axis=1).values"
   ]
  },
  {
   "cell_type": "code",
   "execution_count": 29,
   "metadata": {},
   "outputs": [
    {
     "data": {
      "text/plain": [
       "array([[9.35192e-01, 7.66490e-01, 8.81365e-01, ..., 4.18976e-01,\n",
       "        3.12697e-01, 5.82400e-03],\n",
       "       [9.78542e-01, 7.70067e-01, 8.40298e-01, ..., 4.16345e-01,\n",
       "        3.13423e-01, 1.05000e-04],\n",
       "       [9.35217e-01, 7.53118e-01, 8.68141e-01, ..., 4.15489e-01,\n",
       "        3.11911e-01, 1.47390e-02],\n",
       "       ...,\n",
       "       [9.90905e-01, 7.64080e-01, 7.81102e-01, ..., 4.16593e-01,\n",
       "        3.12585e-01, 2.64200e-03],\n",
       "       [9.54209e-01, 7.72856e-01, 8.49587e-01, ..., 4.18520e-01,\n",
       "        3.15245e-01, 3.89000e-04],\n",
       "       [9.49232e-01, 7.65256e-01, 8.49601e-01, ..., 4.16466e-01,\n",
       "        3.13401e-01, 8.44600e-03]])"
      ]
     },
     "execution_count": 29,
     "metadata": {},
     "output_type": "execute_result"
    }
   ],
   "source": [
    "features"
   ]
  },
  {
   "cell_type": "code",
   "execution_count": 54,
   "metadata": {},
   "outputs": [],
   "source": [
    "#Finding outliers using modified z-score\n",
    "THRESHOLD = 3\n",
    "\n",
    "def mz_score(x):\n",
    "    med = np.median(x)\n",
    "    abs_med = np.abs(x - med)\n",
    "    mad = np.median(abs_med)\n",
    "    \n",
    "    return 0.6745 * abs_med/ mad\n",
    " \n",
    "\n",
    "MZ_scores = mz_score(mse)\n",
    "outliers = MZ_scores > THRESHOLD"
   ]
  },
  {
   "cell_type": "code",
   "execution_count": null,
   "metadata": {},
   "outputs": [],
   "source": []
  },
  {
   "cell_type": "code",
   "execution_count": 55,
   "metadata": {
    "scrolled": true
   },
   "outputs": [
    {
     "name": "stdout",
     "output_type": "stream",
     "text": [
      "Detected 4,024 outliers in a total of 85,443 transactions [4.71%].\n"
     ]
    }
   ],
   "source": [
    "print(f\"Detected {np.sum(outliers):,} outliers in a total of {np.size(z_scores):,} transactions [{np.sum(outliers)/np.size(z_scores):.2%}].\")"
   ]
  },
  {
   "cell_type": "code",
   "execution_count": 50,
   "metadata": {},
   "outputs": [],
   "source": [
    "from sklearn.metrics import (confusion_matrix, \n",
    "                             precision_recall_curve)\n",
    "\n",
    "# get (mis)classification\n",
    "cm = confusion_matrix(y_test, outliers)\n",
    "\n",
    "# true/false positives/negatives\n",
    "(tn, fp, \n",
    " fn, tp) = cm.flatten()"
   ]
  },
  {
   "cell_type": "code",
   "execution_count": 56,
   "metadata": {},
   "outputs": [
    {
     "name": "stdout",
     "output_type": "stream",
     "text": [
      "The classifications using the MAD method with threshold=3 are as follows:\n",
      "[[81400  3899]\n",
      " [   19   125]]\n",
      "\n",
      "percentage of transactions labeled as fraud that were correct (precision): 125/(3899+125) = 3.11%\n",
      "percentage of fraudulent transactions were caught succesfully (recall):    125/(19+125) = 86.81%\n"
     ]
    }
   ],
   "source": [
    "print(f\"\"\"The classifications using the MAD method with threshold={THRESHOLD} are as follows:\n",
    "{cm}\n",
    "\n",
    "percentage of transactions labeled as fraud that were correct (precision): {tp}/({fp}+{tp}) = {tp/(fp+tp):.2%}\n",
    "percentage of fraudulent transactions were caught succesfully (recall):    {tp}/({fn}+{tp}) = {tp/(fn+tp):.2%}\"\"\")"
   ]
  },
  {
   "cell_type": "code",
   "execution_count": 57,
   "metadata": {},
   "outputs": [],
   "source": [
    "from sklearn.metrics import roc_auc_score"
   ]
  },
  {
   "cell_type": "code",
   "execution_count": 58,
   "metadata": {},
   "outputs": [
    {
     "name": "stdout",
     "output_type": "stream",
     "text": [
      "0.9111728791271488\n"
     ]
    }
   ],
   "source": [
    "print(roc_auc_score(y_test, outliers))"
   ]
  },
  {
   "cell_type": "code",
   "execution_count": null,
   "metadata": {},
   "outputs": [],
   "source": []
  },
  {
   "cell_type": "code",
   "execution_count": null,
   "metadata": {},
   "outputs": [],
   "source": []
  }
 ],
 "metadata": {
  "kernelspec": {
   "display_name": "Python 3",
   "language": "python",
   "name": "python3"
  },
  "language_info": {
   "codemirror_mode": {
    "name": "ipython",
    "version": 3
   },
   "file_extension": ".py",
   "mimetype": "text/x-python",
   "name": "python",
   "nbconvert_exporter": "python",
   "pygments_lexer": "ipython3",
   "version": "3.7.0"
  }
 },
 "nbformat": 4,
 "nbformat_minor": 4
}
